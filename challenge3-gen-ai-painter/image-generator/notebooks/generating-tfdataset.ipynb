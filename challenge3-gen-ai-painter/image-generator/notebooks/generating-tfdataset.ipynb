{
 "cells": [
  {
   "cell_type": "code",
   "execution_count": 4,
   "metadata": {},
   "outputs": [
    {
     "name": "stdout",
     "output_type": "stream",
     "text": [
      "C:/DataSets/monet-cyclegann/original\\monet_jpg\n"
     ]
    },
    {
     "ename": "FileNotFoundError",
     "evalue": "[WinError 3] The system cannot find the path specified: 'C:/monet_jpg/'",
     "output_type": "error",
     "traceback": [
      "\u001b[1;31m---------------------------------------------------------------------------\u001b[0m",
      "\u001b[1;31mFileNotFoundError\u001b[0m                         Traceback (most recent call last)",
      "Cell \u001b[1;32mIn[4], line 10\u001b[0m\n\u001b[0;32m      7\u001b[0m \u001b[38;5;28mprint\u001b[39m(os\u001b[38;5;241m.\u001b[39mpath\u001b[38;5;241m.\u001b[39mjoin(datasets_path, \u001b[38;5;124m'\u001b[39m\u001b[38;5;124mmonet_jpg\u001b[39m\u001b[38;5;124m'\u001b[39m))\n\u001b[0;32m      9\u001b[0m \u001b[38;5;66;03m# iterate over images in directory\u001b[39;00m\n\u001b[1;32m---> 10\u001b[0m \u001b[38;5;28;01mfor\u001b[39;00m name \u001b[38;5;129;01min\u001b[39;00m \u001b[43mos\u001b[49m\u001b[38;5;241;43m.\u001b[39;49m\u001b[43mlistdir\u001b[49m\u001b[43m(\u001b[49m\u001b[43mos\u001b[49m\u001b[38;5;241;43m.\u001b[39;49m\u001b[43mpath\u001b[49m\u001b[38;5;241;43m.\u001b[39;49m\u001b[43mjoin\u001b[49m\u001b[43m(\u001b[49m\u001b[43mdatasets_path\u001b[49m\u001b[43m,\u001b[49m\u001b[43m \u001b[49m\u001b[38;5;124;43m'\u001b[39;49m\u001b[38;5;124;43m/monet_jpg/\u001b[39;49m\u001b[38;5;124;43m'\u001b[39;49m\u001b[43m)\u001b[49m\u001b[43m)\u001b[49m:\n\u001b[0;32m     11\u001b[0m   img_path \u001b[38;5;241m=\u001b[39m os\u001b[38;5;241m.\u001b[39mpath\u001b[38;5;241m.\u001b[39mjoin(datasets_path, \u001b[38;5;124m'\u001b[39m\u001b[38;5;124m/monet_jpg/\u001b[39m\u001b[38;5;124m'\u001b[39m, name)\n\u001b[0;32m     12\u001b[0m   \u001b[38;5;66;03m# try read image file\u001b[39;00m\n",
      "\u001b[1;31mFileNotFoundError\u001b[0m: [WinError 3] The system cannot find the path specified: 'C:/monet_jpg/'"
     ]
    }
   ],
   "source": [
    "import tensorflow as tf\n",
    "import os\n",
    "\n",
    "# create a writer\n",
    "tfrecord_writer = tf.io.TFRecordWriter(\"data.tfrecord\")\n",
    "datasets_path = 'C:/DataSets/monet-cyclegann/original'\n",
    "\n",
    "# iterate over images in directory\n",
    "for name in os.listdir(os.path.join(datasets_path, 'monet_jpg')):\n",
    "  img_path = os.path.join(datasets_path, 'monet_jpg', name)\n",
    "  # try read image file\n",
    "  try:\n",
    "    raw_file = tf.io.read_file(img_path)\n",
    "  except FileNotFoundError:\n",
    "    print(\"Couldn't read file  {}\".format(img_path))\n",
    "    continue\n",
    "  # create an example with the image and label\n",
    "  example = tf.train.Example(features=tf.train.Features(feature={\n",
    "    'image': tf.train.Feature(bytes_list=tf.train.BytesList(value=[raw_file.numpy()]))\n",
    "  }))\n",
    "  # write example\n",
    "  tfrecord_writer.write(example.SerializeToString())\n",
    "\n",
    "# close writer\n",
    "tfrecord_writer.close()"
   ]
  }
 ],
 "metadata": {
  "kernelspec": {
   "display_name": "Python 3",
   "language": "python",
   "name": "python3"
  },
  "language_info": {
   "codemirror_mode": {
    "name": "ipython",
    "version": 3
   },
   "file_extension": ".py",
   "mimetype": "text/x-python",
   "name": "python",
   "nbconvert_exporter": "python",
   "pygments_lexer": "ipython3",
   "version": "3.11.4"
  }
 },
 "nbformat": 4,
 "nbformat_minor": 2
}
